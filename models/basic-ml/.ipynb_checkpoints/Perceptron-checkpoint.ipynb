{
 "cells": [
  {
   "cell_type": "markdown",
   "metadata": {
    "id": "cYUoCqfheVb3"
   },
   "source": [
    "# Deep Learning Models\n",
    "\n",
    "A collection of deep learning models implemented on Pytorch for training purposes.\n",
    "\n",
    "Author: Lucas Martinuzzo Batista<br>\n",
    "GitHub: https://github.com/LucasMartinuzzo/Deep-Learning-Models"
   ]
  },
  {
   "cell_type": "markdown",
   "metadata": {
    "id": "wjOom44weu9r"
   },
   "source": [
    "## Rosenblatt's Perceptron\n",
    "\n",
    "Implementation of Frank Rosenblatt's Perceptron for binary classification."
   ]
  },
  {
   "cell_type": "code",
   "execution_count": 1,
   "metadata": {
    "id": "yB1WV5fId3T7"
   },
   "outputs": [],
   "source": [
    "import torch \n",
    "import torch.nn as nn\n",
    "import torchvision.transforms as transforms\n",
    "from torch.utils.data import Dataset, DataLoader\n",
    "import matplotlib.pylab as plt\n",
    "import numpy as np\n",
    "import os"
   ]
  },
  {
   "cell_type": "code",
   "execution_count": 2,
   "metadata": {
    "colab": {
     "base_uri": "https://localhost:8080/"
    },
    "id": "IUexRNI5iAnu",
    "outputId": "3a700770-9e56-4279-9ffa-a26a16f0ddd2"
   },
   "outputs": [
    {
     "name": "stdout",
     "output_type": "stream",
     "text": [
      "Cuda is Available!\n"
     ]
    }
   ],
   "source": [
    "device = \"cpu\"\n",
    "if torch.cuda.is_available():\n",
    "  print(\"Cuda is Available!\")\n",
    "  device = torch.device(\"cuda:0\")"
   ]
  },
  {
   "cell_type": "code",
   "execution_count": 3,
   "metadata": {
    "id": "Tq87WrdhJnvA"
   },
   "outputs": [],
   "source": [
    "data = np.genfromtxt(\"../../data/perceptron_toy_data.csv\",delimiter = \"\\t\")\n",
    "np.random.shuffle(data)"
   ]
  },
  {
   "cell_type": "code",
   "execution_count": 4,
   "metadata": {
    "id": "pdRavW6cLn58"
   },
   "outputs": [],
   "source": [
    "X = np.array(data[:,:2]).astype(float)\n",
    "y = np.array(data[:,2]).astype(int)\n",
    "size = y.shape[0]"
   ]
  },
  {
   "cell_type": "code",
   "execution_count": 5,
   "metadata": {
    "id": "V4I9dX_WO5_k"
   },
   "outputs": [],
   "source": [
    "train_size = int(0.7*size)"
   ]
  },
  {
   "cell_type": "code",
   "execution_count": 6,
   "metadata": {
    "colab": {
     "base_uri": "https://localhost:8080/"
    },
    "id": "5LAAajRzNmet",
    "outputId": "2aec3ae0-3edb-4426-c311-8a8be6a95328"
   },
   "outputs": [
    {
     "name": "stdout",
     "output_type": "stream",
     "text": [
      "X shape: (100, 2)\n",
      "y shape: (100,)\n",
      "Class count: [50 50]\n"
     ]
    }
   ],
   "source": [
    "print(\"X shape:\",X.shape)\n",
    "print(\"y shape:\",y.shape)\n",
    "print(\"Class count:\",np.bincount(y))"
   ]
  },
  {
   "cell_type": "code",
   "execution_count": 7,
   "metadata": {
    "id": "b3BMa9EcOjhu"
   },
   "outputs": [],
   "source": [
    "X_train = X[:train_size]\n",
    "X_test = X[train_size:]\n",
    "y_train = y[:train_size]\n",
    "y_test = y[train_size:]"
   ]
  },
  {
   "cell_type": "code",
   "execution_count": 8,
   "metadata": {
    "colab": {
     "base_uri": "https://localhost:8080/",
     "height": 279
    },
    "id": "w16ofoV3QLK6",
    "outputId": "5f168788-06ec-4e21-b3d5-f91a2e758a0f"
   },
   "outputs": [
    {
     "data": {
      "image/png": "[encoded data removed]",
      "text/plain": [
       "<Figure size 432x288 with 1 Axes>"
      ]
     },
     "metadata": {
      "needs_background": "light"
     },
     "output_type": "display_data"
    }
   ],
   "source": [
    "plt.scatter(X_train[y_train==0, 0], X_train[y_train==0, 1], label='class 0', marker='o')\n",
    "plt.scatter(X_train[y_train==1, 0], X_train[y_train==1, 1], label='class 1', marker='s')\n",
    "plt.xlabel('feature 1')\n",
    "plt.ylabel('feature 2')\n",
    "plt.legend()\n",
    "plt.show()"
   ]
  },
  {
   "cell_type": "code",
   "execution_count": 9,
   "metadata": {
    "id": "mdfqgKp_PLio"
   },
   "outputs": [],
   "source": [
    "n_features = X.shape[1]"
   ]
  },
  {
   "cell_type": "code",
   "execution_count": 10,
   "metadata": {
    "id": "NW_kiV5MeQy1"
   },
   "outputs": [],
   "source": [
    "class Perceptron():\n",
    "  #Constructor\n",
    "  def __init__(self,n_features):\n",
    "    self.weights = torch.rand(n_features,1,dtype=torch.float32,device=device)\n",
    "    self.bias = torch.rand(1,dtype=torch.float32,device=device)\n",
    "\n",
    "  def forward(self,x):\n",
    "    yhat = torch.add(torch.mm(x,self.weights),self.bias).view(-1)\n",
    "    return np.where(yhat.cpu().numpy()>=0,1,0)\n",
    "\n",
    "  def backward(self,x,y):\n",
    "    yhat = self.forward(x)\n",
    "    return y - torch.from_numpy(yhat).to(device).view(-1)\n",
    "  \n",
    "  def train(self,x,y,epochs=100):\n",
    "    for epoch in range(epochs):\n",
    "      for i in range(y.shape[0]):\n",
    "        error = self.backward(x[i].view(1,n_features),y[i])\n",
    "        if error != 0:\n",
    "          self.weights = torch.add(self.weights,(error*X_train_tensor[i]).view(n_features,-1))\n",
    "          self.bias = torch.add(self.bias,error)\n",
    "      errors = self.backward(x,y)\n",
    "      if np.all(errors.cpu().numpy() == 0):\n",
    "        print(\"Stopped at epoch:\",epoch)\n",
    "        break\n",
    "  \n",
    "  def evaluate_acc(self,x,y):\n",
    "    yhat = self.forward(x)\n",
    "    return np.sum(yhat == y)/(len(y))"
   ]
  },
  {
   "cell_type": "code",
   "execution_count": 11,
   "metadata": {
    "id": "Osi21Vl2RjdZ"
   },
   "outputs": [],
   "source": [
    "X_train_tensor = torch.Tensor(X_train).to(device)\n",
    "y_train_tensor = torch.Tensor(y_train).to(device)"
   ]
  },
  {
   "cell_type": "code",
   "execution_count": 12,
   "metadata": {
    "colab": {
     "base_uri": "https://localhost:8080/"
    },
    "id": "hDd1-zvxR4EZ",
    "outputId": "6059d7e4-068e-49e5-cbda-4a7505cee2bb"
   },
   "outputs": [
    {
     "data": {
      "text/plain": [
       "tensor([0., 1., 1., 0., 1., 0., 0., 0., 0., 0., 1., 1., 1., 1., 1., 1., 1., 1.,\n",
       "        0., 1., 0., 1., 0., 1., 0., 0., 0., 1., 0., 0., 0., 0., 1., 0., 0., 0.,\n",
       "        0., 1., 1., 1., 0., 1., 0., 1., 1., 0., 1., 0., 1., 1., 1., 0., 1., 1.,\n",
       "        0., 0., 1., 1., 0., 0., 1., 1., 1., 0., 1., 0., 0., 0., 1., 1.],\n",
       "       device='cuda:0')"
      ]
     },
     "execution_count": 12,
     "metadata": {},
     "output_type": "execute_result"
    }
   ],
   "source": [
    "y_train_tensor"
   ]
  },
  {
   "cell_type": "code",
   "execution_count": 13,
   "metadata": {
    "colab": {
     "base_uri": "https://localhost:8080/"
    },
    "id": "6eNTZGdsdf5A",
    "outputId": "2e934759-60d1-4b6b-a919-6e2fb7a670df"
   },
   "outputs": [
    {
     "name": "stdout",
     "output_type": "stream",
     "text": [
      "Stopped at epoch: 3\n"
     ]
    }
   ],
   "source": [
    "perceptron = Perceptron(n_features)\n",
    "perceptron.train(X_train_tensor,y_train_tensor,10)"
   ]
  },
  {
   "cell_type": "code",
   "execution_count": 14,
   "metadata": {
    "colab": {
     "base_uri": "https://localhost:8080/"
    },
    "id": "WJCylU_Of2qt",
    "outputId": "9703b3a3-732a-47cc-d747-faa263ba4fa1"
   },
   "outputs": [
    {
     "name": "stdout",
     "output_type": "stream",
     "text": [
      "Model parameters:\n",
      "Weights: tensor([[2.3621],\n",
      "        [1.1046]], device='cuda:0')\n",
      "Bias: tensor([-2.4072], device='cuda:0')\n"
     ]
    }
   ],
   "source": [
    "print('Model parameters:')\n",
    "print('Weights: %s' % perceptron.weights)\n",
    "print('Bias: %s' % perceptron.bias)"
   ]
  },
  {
   "cell_type": "code",
   "execution_count": 15,
   "metadata": {
    "colab": {
     "base_uri": "https://localhost:8080/"
    },
    "id": "MpCKsqtOlzp0",
    "outputId": "858b4b54-1d7f-4e89-acee-fa68af4578a8"
   },
   "outputs": [
    {
     "name": "stdout",
     "output_type": "stream",
     "text": [
      "Accuracy: 1.0\n"
     ]
    }
   ],
   "source": [
    "X_test_tensor = torch.Tensor(X_test).to(device)\n",
    "y_test_tensor = torch.Tensor(y_test).to(device)\n",
    "print(\"Accuracy:\",perceptron.evaluate_acc(X_test_tensor,y_test))"
   ]
  },
  {
   "cell_type": "code",
   "execution_count": 17,
   "metadata": {
    "colab": {
     "base_uri": "https://localhost:8080/",
     "height": 211
    },
    "id": "E3I4CY63f94u",
    "outputId": "13144b5e-b130-475b-b440-25ca0e896c3a"
   },
   "outputs": [
    {
     "data": {
      "image/png": "[encoded data removed]",
      "text/plain": [
       "<Figure size 504x216 with 2 Axes>"
      ]
     },
     "metadata": {
      "needs_background": "light"
     },
     "output_type": "display_data"
    }
   ],
   "source": [
    "##########################\n",
    "### 2D Decision Boundary\n",
    "##########################\n",
    "\n",
    "w, b = perceptron.weights.cpu().numpy(), perceptron.bias.cpu().numpy()\n",
    "\n",
    "x_min = -2\n",
    "y_min = ( (-(w[0] * x_min) - b[0]) \n",
    "          / w[1] )\n",
    "\n",
    "x_max = 2\n",
    "y_max = ( (-(w[0] * x_max) - b[0]) \n",
    "          / w[1] )\n",
    "\n",
    "\n",
    "fig, ax = plt.subplots(1, 2, sharex=True, figsize=(7, 3))\n",
    "\n",
    "ax[0].plot([x_min, x_max], [y_min, y_max])\n",
    "ax[1].plot([x_min, x_max], [y_min, y_max])\n",
    "\n",
    "ax[0].scatter(X_train[y_train==0, 0], X_train[y_train==0, 1], label='class 0', marker='o')\n",
    "ax[0].scatter(X_train[y_train==1, 0], X_train[y_train==1, 1], label='class 1', marker='s')\n",
    "\n",
    "ax[1].scatter(X_test[y_test==0, 0], X_test[y_test==0, 1], label='class 0', marker='o')\n",
    "ax[1].scatter(X_test[y_test==1, 0], X_test[y_test==1, 1], label='class 1', marker='s')\n",
    "\n",
    "ax[1].legend(loc='upper left')\n",
    "plt.show()"
   ]
  },
  {
   "cell_type": "code",
   "execution_count": null,
   "metadata": {},
   "outputs": [],
   "source": []
  }
 ],
 "metadata": {
  "accelerator": "GPU",
  "colab": {
   "collapsed_sections": [],
   "name": "Perceptron.ipynb",
   "provenance": []
  },
  "kernelspec": {
   "display_name": "Python 3 (ipykernel)",
   "language": "python",
   "name": "python3"
  },
  "language_info": {
   "codemirror_mode": {
    "name": "ipython",
    "version": 3
   },
   "file_extension": ".py",
   "mimetype": "text/x-python",
   "name": "python",
   "nbconvert_exporter": "python",
   "pygments_lexer": "ipython3",
   "version": "3.8.8"
  }
 },
 "nbformat": 4,
 "nbformat_minor": 4
}
