{
 "cells": [
  {
   "cell_type": "markdown",
   "metadata": {
    "id": "cYUoCqfheVb3"
   },
   "source": [
    "# Deep Learning Models\n",
    "\n",
    "A collection of deep learning models implemented on Pytorch for training purposes.\n",
    "\n",
    "Author: Lucas Martinuzzo Batista<br>\n",
    "GitHub: https://github.com/LucasMartinuzzo/Deep-Learning-Models"
   ]
  },
  {
   "cell_type": "markdown",
   "metadata": {
    "id": "wjOom44weu9r"
   },
   "source": [
    "## Binary Logistic Regression from Scratch\n",
    "\n",
    "Implementation of binary logistic regression. Positive class is 1, negative class is -1."
   ]
  },
  {
   "cell_type": "code",
   "execution_count": 1,
   "metadata": {
    "id": "yB1WV5fId3T7"
   },
   "outputs": [],
   "source": [
    "import torch \n",
    "import torch.nn as nn\n",
    "import torchvision.transforms as transforms\n",
    "from torch.utils.data import Dataset, DataLoader\n",
    "from sklearn.datasets import make_blobs\n",
    "import matplotlib.pylab as plt\n",
    "from matplotlib.lines import Line2D\n",
    "import numpy as np\n",
    "import os"
   ]
  },
  {
   "cell_type": "code",
   "execution_count": 2,
   "metadata": {
    "colab": {
     "base_uri": "https://localhost:8080/"
    },
    "id": "IUexRNI5iAnu",
    "outputId": "3a700770-9e56-4279-9ffa-a26a16f0ddd2"
   },
   "outputs": [
    {
     "name": "stdout",
     "output_type": "stream",
     "text": [
      "Cuda is Available!\n"
     ]
    }
   ],
   "source": [
    "device = \"cpu\"\n",
    "if torch.cuda.is_available():\n",
    "  print(\"Cuda is Available!\")\n",
    "  device = torch.device(\"cuda:0\")"
   ]
  },
  {
   "cell_type": "code",
   "execution_count": 3,
   "metadata": {},
   "outputs": [
    {
     "name": "stdout",
     "output_type": "stream",
     "text": [
      "X.shape = (300, 2)   y.shape = (300,)\n"
     ]
    }
   ],
   "source": [
    "# Create two blobs\n",
    "N = 300\n",
    "X, y = make_blobs(n_samples=N, centers=2, cluster_std=1, n_features=2, random_state=2)\n",
    "\n",
    "# change labels 0 to -1\n",
    "y[y==0] = -1\n",
    "\n",
    "print(\"X.shape =\", X.shape, \"  y.shape =\", y.shape)"
   ]
  },
  {
   "cell_type": "code",
   "execution_count": 4,
   "metadata": {
    "id": "V4I9dX_WO5_k"
   },
   "outputs": [],
   "source": [
    "train_size = int(0.7*N)"
   ]
  },
  {
   "cell_type": "code",
   "execution_count": 5,
   "metadata": {
    "colab": {
     "base_uri": "https://localhost:8080/"
    },
    "id": "5LAAajRzNmet",
    "outputId": "2aec3ae0-3edb-4426-c311-8a8be6a95328"
   },
   "outputs": [
    {
     "name": "stdout",
     "output_type": "stream",
     "text": [
      "X shape: (300, 2)\n",
      "y shape: (300,)\n"
     ]
    }
   ],
   "source": [
    "print(\"X shape:\",X.shape)\n",
    "print(\"y shape:\",y.shape)"
   ]
  },
  {
   "cell_type": "code",
   "execution_count": 6,
   "metadata": {
    "id": "b3BMa9EcOjhu"
   },
   "outputs": [],
   "source": [
    "X_train = X[:train_size]\n",
    "X_test = X[train_size:]\n",
    "y_train = y[:train_size]\n",
    "y_test = y[train_size:]"
   ]
  },
  {
   "cell_type": "code",
   "execution_count": 7,
   "metadata": {},
   "outputs": [
    {
     "name": "stdout",
     "output_type": "stream",
     "text": [
      "X_train shape: (210, 2)\n",
      "y_train shape: (210,)\n",
      "X_test shape: (210, 2)\n",
      "y_test shape: (90,)\n"
     ]
    }
   ],
   "source": [
    "print(\"X_train shape:\",X_train.shape)\n",
    "print(\"y_train shape:\",y_train.shape)\n",
    "print(\"X_test shape:\",X_train.shape)\n",
    "print(\"y_test shape:\",y_test.shape)"
   ]
  },
  {
   "cell_type": "code",
   "execution_count": 8,
   "metadata": {
    "colab": {
     "base_uri": "https://localhost:8080/",
     "height": 279
    },
    "id": "w16ofoV3QLK6",
    "outputId": "5f168788-06ec-4e21-b3d5-f91a2e758a0f"
   },
   "outputs": [
    {
     "data": {
      "image/png": "[encoded data removed]",
      "text/plain": [
       "<Figure size 432x432 with 1 Axes>"
      ]
     },
     "metadata": {
      "needs_background": "light"
     },
     "output_type": "display_data"
    }
   ],
   "source": [
    "fig = plt.figure(figsize=(6,6))\n",
    "\n",
    "# plot negatives in red\n",
    "plt.scatter(X[y==-1,0], \\\n",
    "            X[y==-1,1], \\\n",
    "            alpha = 0.5,\\\n",
    "            c = 'red')\n",
    "\n",
    "# and positives in blue\n",
    "plt.scatter(x=X[y==1,0], \\\n",
    "            y=X[y==1,1], \\\n",
    "            alpha = 0.5, \\\n",
    "            c = 'blue')\n",
    "\n",
    "P=+1\n",
    "N=-1\n",
    "legend_elements = [ Line2D([0], [0], marker='o', color='r',\\\n",
    "                    label='Class %d'%N, markerfacecolor='r',\\\n",
    "                    markersize=10),\\\n",
    "                    Line2D([0], [0], marker='o', color='b',\\\n",
    "                    label='Class %d'%P, markerfacecolor='b',\\\n",
    "                    markersize=10) ]\n",
    "\n",
    "plt.legend(handles=legend_elements, loc='best')\n",
    "plt.show()      \n"
   ]
  },
  {
   "cell_type": "code",
   "execution_count": 9,
   "metadata": {
    "id": "mdfqgKp_PLio"
   },
   "outputs": [],
   "source": [
    "n_features = X.shape[1]"
   ]
  },
  {
   "cell_type": "code",
   "execution_count": 10,
   "metadata": {},
   "outputs": [
    {
     "data": {
      "text/plain": [
       "2"
      ]
     },
     "execution_count": 10,
     "metadata": {},
     "output_type": "execute_result"
    }
   ],
   "source": [
    "n_features"
   ]
  },
  {
   "cell_type": "code",
   "execution_count": 11,
   "metadata": {
    "id": "NW_kiV5MeQy1"
   },
   "outputs": [],
   "source": [
    "class BinaryLogRegression():\n",
    "  #Constructor\n",
    "    def __init__(self,n_features,weights=None):\n",
    "        #The weights is being set with n_feature +1 variables. The +1 is the bias.\n",
    "        if weights is None:\n",
    "            self.weights_b = torch.rand(n_features+1,1,dtype=torch.float32,device=device)\n",
    "        else:\n",
    "            self.weights_b = torch.Tensor(weights).to(device).view(n_features+1,-1)\n",
    "        self.n_features = n_features\n",
    "        \n",
    "    def sigmoid(self,linear):\n",
    "        return 1./(1+torch.exp(-linear))\n",
    "    \n",
    "    def forward(self,X_,threshold=0.5):\n",
    "        X = torch.cat((torch.ones(X_.size()[0], 1,device=device), X_), axis = 1)\n",
    "        linear = torch.matmul(X,self.weights_b)\n",
    "        sig = self.sigmoid(linear).view(-1)\n",
    "        if threshold is None:\n",
    "            return sig\n",
    "        else:\n",
    "            return np.where(sig.cpu().numpy()>=threshold,1,-1)\n",
    "    \n",
    "    def cross_entropy_loss(self,X,y):\n",
    "        return torch.mean(torch.log(1. + torch.exp(-y.view(-1,1)*torch.matmul(X,self.weights_b))))\n",
    "    \n",
    "    def cross_entropy_gradient(self,X,y):\n",
    "        N = X.size()[0]\n",
    "        return -torch.matmul(X.T,\n",
    "                             y.view(-1,1)/(1. + torch.exp(y.view(-1,1)*torch.matmul(X,self.weights_b)))\n",
    "                            )/N\n",
    "\n",
    "    def train(self,X_,y,learning_rate=1e-2,epochs=1000):\n",
    "        X = torch.cat((torch.ones(X_.size()[0], 1,device=device), X_), axis = 1)\n",
    "        LOSS = []\n",
    "        for epoch in range(epochs):\n",
    "            LOSS.append(self.cross_entropy_loss(X,y).cpu().numpy())\n",
    "            cross_grad = self.cross_entropy_gradient(X,y)\n",
    "            #if epoch % 1000 == 0:\n",
    "            #    print(self.weights_b)\n",
    "            self.weights_b = self.weights_b - learning_rate*cross_grad\n",
    "        LOSS.append(self.cross_entropy_loss(X,y).cpu().numpy())\n",
    "        return LOSS\n",
    "\n",
    "    def evaluate_acc(self,X,y):\n",
    "        yhat = self.forward(X)\n",
    "        return np.sum(yhat == y)/(len(y))"
   ]
  },
  {
   "cell_type": "code",
   "execution_count": 12,
   "metadata": {
    "id": "Osi21Vl2RjdZ"
   },
   "outputs": [],
   "source": [
    "X_train_tensor = torch.Tensor(X_train).to(device)\n",
    "y_train_tensor = torch.Tensor(y_train).to(device)"
   ]
  },
  {
   "cell_type": "code",
   "execution_count": 13,
   "metadata": {
    "colab": {
     "base_uri": "https://localhost:8080/"
    },
    "id": "6eNTZGdsdf5A",
    "outputId": "2e934759-60d1-4b6b-a919-6e2fb7a670df"
   },
   "outputs": [],
   "source": [
    "log_reg = BinaryLogRegression(n_features)"
   ]
  },
  {
   "cell_type": "code",
   "execution_count": 14,
   "metadata": {},
   "outputs": [],
   "source": [
    "LOSS = log_reg.train(X_train_tensor,y_train_tensor,learning_rate=0.05,epochs=10000)"
   ]
  },
  {
   "cell_type": "code",
   "execution_count": 15,
   "metadata": {
    "colab": {
     "base_uri": "https://localhost:8080/"
    },
    "id": "WJCylU_Of2qt",
    "outputId": "9703b3a3-732a-47cc-d747-faa263ba4fa1"
   },
   "outputs": [
    {
     "name": "stdout",
     "output_type": "stream",
     "text": [
      "Model parameters:\n",
      "Weights and bias: tensor([[6.6237],\n",
      "        [0.9738],\n",
      "        [1.3127]], device='cuda:0')\n"
     ]
    }
   ],
   "source": [
    "print('Model parameters:')\n",
    "print('Weights and bias: %s' % log_reg.weights_b)"
   ]
  },
  {
   "cell_type": "code",
   "execution_count": 16,
   "metadata": {},
   "outputs": [
    {
     "data": {
      "image/png": "[encoded data removed]",
      "text/plain": [
       "<Figure size 864x576 with 1 Axes>"
      ]
     },
     "metadata": {
      "needs_background": "light"
     },
     "output_type": "display_data"
    }
   ],
   "source": [
    "plt.figure(figsize = (12, 8))\n",
    "plt.plot(LOSS)\n",
    "plt.xlabel('Iteration #')\n",
    "plt.ylabel('Cross Entropy Loss')\n",
    "plt.show()"
   ]
  },
  {
   "cell_type": "code",
   "execution_count": 17,
   "metadata": {
    "colab": {
     "base_uri": "https://localhost:8080/"
    },
    "id": "MpCKsqtOlzp0",
    "outputId": "858b4b54-1d7f-4e89-acee-fa68af4578a8"
   },
   "outputs": [
    {
     "name": "stdout",
     "output_type": "stream",
     "text": [
      "Accuracy: 1.0\n"
     ]
    }
   ],
   "source": [
    "X_test_tensor = torch.Tensor(X_test).to(device)\n",
    "y_test_tensor = torch.Tensor(y_test).to(device)\n",
    "print(\"Accuracy:\",log_reg.evaluate_acc(X_test_tensor,y_test))"
   ]
  },
  {
   "cell_type": "code",
   "execution_count": 18,
   "metadata": {},
   "outputs": [],
   "source": [
    "y_pred = log_reg.forward(X_test_tensor)"
   ]
  },
  {
   "cell_type": "code",
   "execution_count": 19,
   "metadata": {},
   "outputs": [
    {
     "data": {
      "image/png": "[encoded data removed]",
      "text/plain": [
       "<Figure size 864x432 with 2 Axes>"
      ]
     },
     "metadata": {
      "needs_background": "light"
     },
     "output_type": "display_data"
    }
   ],
   "source": [
    "x1min = min(X[:,0])\n",
    "x1max = max(X[:,0])\n",
    "x2min = min(X[:,1])\n",
    "x2max = max(X[:,1])\n",
    "\n",
    "fig = plt.figure(figsize=(12,6))\n",
    "ax1 = fig.add_subplot(121)\n",
    "ax1.set_title(\"Full Set Ground-truth\")\n",
    "\n",
    "# plot negatives in red\n",
    "ax1.scatter(X[y==-1,0], \\\n",
    "            X[y==-1,1], \\\n",
    "            alpha = 0.5, \\\n",
    "            c = 'red')\n",
    "\n",
    "# and positives in blue\n",
    "ax1.scatter(x=X[y==1,0], \\\n",
    "            y=X[y==1,1], \\\n",
    "            alpha = 0.5, \\\n",
    "            c = 'blue')\n",
    "\n",
    "ax2 = fig.add_subplot(122)\n",
    "\n",
    "ax2.set_title(\"Prediction\")\n",
    "ax2.scatter(x = X_test[:,0], y = X_test[:,1], c = -y_pred, cmap = 'coolwarm')\n",
    "ax2.legend(handles=legend_elements, loc='best')\n",
    "ax2.set_xlim([x1min-1, x1max+1])\n",
    "ax2.set_ylim([x2min-1, x2max+1])\n",
    "\n",
    "w_logistic = log_reg.weights_b.cpu().numpy()\n",
    "p1 = (x1min, -(w_logistic[0] + (x1min)*w_logistic[1])/w_logistic[2])\n",
    "p2 = (x1max, -(w_logistic[0] + (x1max)*w_logistic[1])/w_logistic[2])\n",
    "\n",
    "lines = ax2.plot([p1[0], p2[0]], [p1[1], p2[1]], '-')\n",
    "plt.setp(lines, color='g', linewidth=4.0)\n",
    "\n",
    "plt.show()\n",
    "        "
   ]
  },
  {
   "cell_type": "markdown",
   "metadata": {},
   "source": [
    "## Binary Logistic Regression using Pytorch Features\n",
    "\n",
    "Implementation of binary logistic regression. Positive class is 1, negative class is -1."
   ]
  },
  {
   "cell_type": "code",
   "execution_count": 35,
   "metadata": {},
   "outputs": [],
   "source": [
    "class BinaryLogRegressionPyTorch(nn.Module):\n",
    "  #Constructor\n",
    "    def __init__(self,n_features):\n",
    "        super(BinaryLogRegressionPyTorch,self).__init__()\n",
    "        \n",
    "        #The weights is being set with n_feature +1 variables. The +1 is the bias.\n",
    "        self.linear = nn.Linear(n_features,1).to(device)\n",
    "        torch.nn.init.uniform_(self.linear.weight)\n",
    "    \n",
    "    def forward(self,x):\n",
    "        x = torch.sigmoid(self.linear(x))\n",
    "        return x\n",
    "    "
   ]
  },
  {
   "cell_type": "code",
   "execution_count": 36,
   "metadata": {},
   "outputs": [],
   "source": [
    "def train(model,optimizer,loss_criterion,X_train,y_train,epochs):\n",
    "    LOSS = []\n",
    "    for epoch in range(epochs):\n",
    "        optimizer.zero_grad()\n",
    "        y_hat = model(X_train)\n",
    "        loss = loss_criterion(y_hat,y_train)\n",
    "        loss.backward()\n",
    "        optimizer.step()\n",
    "        LOSS.append(loss.cpu().detach())\n",
    "    return LOSS"
   ]
  },
  {
   "cell_type": "code",
   "execution_count": 37,
   "metadata": {},
   "outputs": [
    {
     "data": {
      "text/plain": [
       "torch.Size([210])"
      ]
     },
     "execution_count": 37,
     "metadata": {},
     "output_type": "execute_result"
    }
   ],
   "source": [
    "y_train_tensor.size()"
   ]
  },
  {
   "cell_type": "code",
   "execution_count": 38,
   "metadata": {},
   "outputs": [],
   "source": [
    "model = BinaryLogRegressionPyTorch(n_features)\n",
    "optimizer = torch.optim.SGD(model.parameters(),lr=0.2)\n",
    "loss = nn.BCELoss()"
   ]
  },
  {
   "cell_type": "code",
   "execution_count": 39,
   "metadata": {},
   "outputs": [],
   "source": [
    "LOSS = train(model,optimizer,loss,X_train_tensor,y_train_tensor.view(-1,1),epochs=10000)"
   ]
  },
  {
   "cell_type": "code",
   "execution_count": 40,
   "metadata": {},
   "outputs": [
    {
     "data": {
      "image/png": "[encoded data removed]",
      "text/plain": [
       "<Figure size 864x576 with 1 Axes>"
      ]
     },
     "metadata": {
      "needs_background": "light"
     },
     "output_type": "display_data"
    }
   ],
   "source": [
    "plt.figure(figsize = (12, 8))\n",
    "plt.plot(LOSS)\n",
    "plt.xlabel('Iteration #')\n",
    "plt.ylabel('Cross Entropy Loss')\n",
    "plt.show()"
   ]
  },
  {
   "cell_type": "code",
   "execution_count": null,
   "metadata": {},
   "outputs": [],
   "source": [
    "def evaluate_acc(yhat,y):\n",
    "    return np.sum(yhat == y)/(len(y))\n",
    "print(\"Accuracy:\",log_reg.evaluate_acc(X_test_tensor,y_test))"
   ]
  },
  {
   "cell_type": "code",
   "execution_count": null,
   "metadata": {},
   "outputs": [],
   "source": [
    "y_pred = model(X_test_tensor).cpu().detach().numpy()"
   ]
  },
  {
   "cell_type": "code",
   "execution_count": null,
   "metadata": {},
   "outputs": [],
   "source": [
    "weights = model.state_dict()['linear.weight'].cpu().detach().numpy()[0]"
   ]
  },
  {
   "cell_type": "code",
   "execution_count": null,
   "metadata": {},
   "outputs": [],
   "source": [
    "bias = model.state_dict()['linear.bias'].cpu().detach().numpy()"
   ]
  },
  {
   "cell_type": "code",
   "execution_count": null,
   "metadata": {},
   "outputs": [],
   "source": [
    "x1min = min(X[:,0])\n",
    "x1max = max(X[:,0])\n",
    "x2min = min(X[:,1])\n",
    "x2max = max(X[:,1])\n",
    "\n",
    "fig = plt.figure(figsize=(12,6))\n",
    "ax1 = fig.add_subplot(121)\n",
    "ax1.set_title(\"Full Set Ground-truth\")\n",
    "\n",
    "# plot negatives in red\n",
    "ax1.scatter(X[y==-1,0], \\\n",
    "            X[y==-1,1], \\\n",
    "            alpha = 0.5, \\\n",
    "            c = 'red')\n",
    "\n",
    "# and positives in blue\n",
    "ax1.scatter(x=X[y==1,0], \\\n",
    "            y=X[y==1,1], \\\n",
    "            alpha = 0.5, \\\n",
    "            c = 'blue')\n",
    "\n",
    "ax2 = fig.add_subplot(122)\n",
    "\n",
    "ax2.set_title(\"Prediction\")\n",
    "ax2.scatter(x = X_test[:,0], y = X_test[:,1], c = -y_pred, cmap = 'coolwarm')\n",
    "ax2.legend(handles=legend_elements, loc='best')\n",
    "ax2.set_xlim([x1min-1, x1max+1])\n",
    "ax2.set_ylim([x2min-1, x2max+1])\n",
    "\n",
    "w_logistic = log_reg.weights_b.cpu().numpy()\n",
    "p1 = (x1min, -(bias[0] + (x1min)*weights[0])/weights[1])\n",
    "p2 = (x1max, -(bias[0] + (x1max)*weights[0])/weights[1])\n",
    "\n",
    "lines = ax2.plot([p1[0], p2[0]], [p1[1], p2[1]], '-')\n",
    "plt.setp(lines, color='g', linewidth=4.0)\n",
    "\n",
    "plt.show()\n",
    "        "
   ]
  },
  {
   "cell_type": "code",
   "execution_count": null,
   "metadata": {},
   "outputs": [],
   "source": []
  }
 ],
 "metadata": {
  "accelerator": "GPU",
  "colab": {
   "collapsed_sections": [],
   "name": "Perceptron.ipynb",
   "provenance": []
  },
  "kernelspec": {
   "display_name": "Python 3 (ipykernel)",
   "language": "python",
   "name": "python3"
  },
  "language_info": {
   "codemirror_mode": {
    "name": "ipython",
    "version": 3
   },
   "file_extension": ".py",
   "mimetype": "text/x-python",
   "name": "python",
   "nbconvert_exporter": "python",
   "pygments_lexer": "ipython3",
   "version": "3.8.8"
  }
 },
 "nbformat": 4,
 "nbformat_minor": 4
}
